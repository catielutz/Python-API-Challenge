{
 "cells": [
  {
   "cell_type": "markdown",
   "metadata": {},
   "source": [
    "# WeatherPy\n",
    "----\n",
    "\n",
    "#### Note\n",
    "* Instructions have been included for each segment. You do not have to follow them exactly, but they are included to help you think through the steps."
   ]
  },
  {
   "cell_type": "code",
   "execution_count": 1,
   "metadata": {
    "scrolled": true
   },
   "outputs": [],
   "source": [
    "# Dependencies and Setup\n",
    "import matplotlib.pyplot as plt\n",
    "import pandas as pd\n",
    "import numpy as np\n",
    "import requests\n",
    "import time\n",
    "from scipy.stats import linregress\n",
    "\n",
    "# Import API key\n",
    "from api_keys import weather_api_key\n",
    "\n",
    "# Incorporated citipy to determine city based on latitude and longitude\n",
    "from citipy import citipy\n",
    "\n",
    "# Output File (CSV)\n",
    "output_data_file = \"../output_data/cities.csv\"\n",
    "\n",
    "# Range of latitudes and longitudes\n",
    "lat_range = (-90, 90)\n",
    "lng_range = (-180, 180)"
   ]
  },
  {
   "cell_type": "markdown",
   "metadata": {},
   "source": [
    "## Generate Cities List"
   ]
  },
  {
   "cell_type": "code",
   "execution_count": 2,
   "metadata": {},
   "outputs": [
    {
     "name": "stdout",
     "output_type": "stream",
     "text": [
      "We have found a total of 614 cities.\n"
     ]
    }
   ],
   "source": [
    "# List for holding lat_lngs and cities\n",
    "lat_lngs = []\n",
    "cities = []\n",
    "\n",
    "# Create a set of random lat and lng combinations\n",
    "lats = np.random.uniform(lat_range[0], lat_range[1], size=1500)\n",
    "lngs = np.random.uniform(lng_range[0], lng_range[1], size=1500)\n",
    "lat_lngs = zip(lats, lngs)\n",
    "\n",
    "# Identify nearest city for each lat, lng combination\n",
    "for lat_lng in lat_lngs:\n",
    "    city = citipy.nearest_city(lat_lng[0], lat_lng[1]).city_name\n",
    "    \n",
    "    # If the city is unique, then add it to a our cities list\n",
    "    if city not in cities:\n",
    "        cities.append(city)\n",
    "        \n",
    "# Print the city count to confirm sufficient count\n",
    "total = len(cities)\n",
    "print(f\"We have found a total of {total} cities.\")"
   ]
  },
  {
   "cell_type": "markdown",
   "metadata": {},
   "source": [
    "### Perform API Calls\n",
    "* Perform a weather check on each city using a series of successive API calls.\n",
    "* Include a print log of each city as it'sbeing processed (with the city number and city name).\n"
   ]
  },
  {
   "cell_type": "code",
   "execution_count": 3,
   "metadata": {},
   "outputs": [],
   "source": [
    "# create empty lists for location info & weather variables\n",
    "found_cities = []\n",
    "country = []\n",
    "lat = []\n",
    "lng = []\n",
    "max_temp = []\n",
    "humid = []\n",
    "clouds = []\n",
    "wind_speed = []\n",
    "date = []"
   ]
  },
  {
   "cell_type": "code",
   "execution_count": 4,
   "metadata": {},
   "outputs": [
    {
     "name": "stdout",
     "output_type": "stream",
     "text": [
      "Beginning Data Retrieval     \n",
      "-----------------------------\n",
      "Processing Record #1 | rikitea\n",
      "Processing Record #2 | qaanaaq\n",
      "Processing Record #3 | anadyr\n",
      "Record #4 not found. Skipping...\n",
      "Processing Record #5 | yellowknife\n",
      "Processing Record #6 | hasaki\n",
      "Processing Record #7 | punta arenas\n",
      "Record #8 not found. Skipping...\n",
      "Processing Record #9 | bredasdorp\n",
      "Processing Record #10 | hithadhoo\n",
      "Record #11 not found. Skipping...\n",
      "Processing Record #12 | luderitz\n",
      "Processing Record #13 | xichang\n",
      "Processing Record #14 | portland\n",
      "Processing Record #15 | albany\n",
      "Processing Record #16 | mount isa\n",
      "Processing Record #17 | atuona\n",
      "Processing Record #18 | barrow\n",
      "Processing Record #19 | edea\n",
      "Processing Record #20 | burnie\n",
      "Processing Record #21 | nikolskoye\n",
      "Processing Record #22 | ambilobe\n",
      "Processing Record #23 | busselton\n",
      "Record #24 not found. Skipping...\n",
      "Processing Record #25 | bilibino\n",
      "Processing Record #26 | hilo\n",
      "Processing Record #27 | hermanus\n",
      "Processing Record #28 | montevideo\n",
      "Processing Record #29 | acapulco\n",
      "Processing Record #30 | aklavik\n",
      "Record #31 not found. Skipping...\n",
      "Processing Record #32 | komsomolskiy\n",
      "Processing Record #33 | avarua\n",
      "Processing Record #34 | buala\n",
      "Processing Record #35 | jamestown\n",
      "Processing Record #36 | talnakh\n",
      "Processing Record #37 | bara\n",
      "Processing Record #38 | rio gallegos\n",
      "Processing Record #39 | georgetown\n",
      "Processing Record #40 | ostrovnoy\n",
      "Processing Record #41 | ambon\n",
      "Processing Record #42 | arraial do cabo\n",
      "Processing Record #43 | baiao\n",
      "Processing Record #44 | cape town\n",
      "Processing Record #45 | vokhtoga\n",
      "Processing Record #46 | vaini\n",
      "Processing Record #47 | nishihara\n",
      "Processing Record #48 | brae\n",
      "Processing Record #49 | sarkand\n",
      "Processing Record #50 | sovetskiy\n",
      "Processing Record #51 | bluff\n",
      "Processing Record #52 | castro\n",
      "Processing Record #53 | ushuaia\n",
      "Processing Record #54 | fairbanks\n",
      "Processing Record #55 | poum\n",
      "Processing Record #56 | kapaa\n",
      "Processing Record #57 | saint-philippe\n",
      "Processing Record #58 | olafsvik\n",
      "Processing Record #59 | kruisfontein\n",
      "Processing Record #60 | saskylakh\n",
      "Processing Record #61 | aranos\n",
      "Processing Record #62 | provideniya\n",
      "Processing Record #63 | pevek\n",
      "Processing Record #64 | inhambane\n",
      "Processing Record #65 | hecun\n",
      "Processing Record #66 | mataura\n",
      "Record #67 not found. Skipping...\n",
      "Processing Record #68 | san vicente\n",
      "Processing Record #69 | kodiak\n",
      "Processing Record #70 | fortuna\n",
      "Processing Record #71 | esperance\n",
      "Processing Record #72 | dikson\n",
      "Processing Record #73 | bambous virieux\n",
      "Processing Record #74 | miandrivazo\n",
      "Record #75 not found. Skipping...\n",
      "Processing Record #76 | del rio\n",
      "Processing Record #77 | saint-pierre\n",
      "Processing Record #78 | acarau\n",
      "Processing Record #79 | yining\n",
      "Processing Record #80 | cidreira\n",
      "Processing Record #81 | cherskiy\n",
      "Processing Record #82 | bengkulu\n",
      "Processing Record #83 | soderhamn\n",
      "Processing Record #84 | mar del plata\n",
      "Processing Record #85 | angoche\n",
      "Processing Record #86 | nelson bay\n",
      "Processing Record #87 | namatanai\n",
      "Processing Record #88 | klaksvik\n",
      "Processing Record #89 | beloha\n",
      "Processing Record #90 | srednekolymsk\n",
      "Processing Record #91 | okhotsk\n",
      "Processing Record #92 | port elizabeth\n",
      "Processing Record #93 | port alfred\n",
      "Processing Record #94 | kokopo\n",
      "Processing Record #95 | victoria\n",
      "Processing Record #96 | port-gentil\n",
      "Processing Record #97 | cukai\n",
      "Processing Record #98 | sarangani\n",
      "Processing Record #99 | kemin\n",
      "Record #100 not found. Skipping...\n",
      "Processing Record #101 | puerto ayora\n",
      "Processing Record #102 | hami\n",
      "Processing Record #103 | barra patuca\n",
      "Processing Record #104 | sydney\n",
      "Processing Record #105 | campeche\n",
      "Processing Record #106 | aksarka\n",
      "Processing Record #107 | kaitangata\n",
      "Processing Record #108 | ribeira grande\n",
      "Record #109 not found. Skipping...\n",
      "Processing Record #110 | caninde de sao francisco\n",
      "Processing Record #111 | chicama\n",
      "Processing Record #112 | glendive\n",
      "Record #113 not found. Skipping...\n",
      "Processing Record #114 | quatre cocos\n",
      "Processing Record #115 | henties bay\n",
      "Record #116 not found. Skipping...\n",
      "Processing Record #117 | williamsburg\n",
      "Processing Record #118 | port hedland\n",
      "Processing Record #119 | butaritari\n",
      "Processing Record #120 | maridi\n",
      "Processing Record #121 | barra do garcas\n",
      "Processing Record #122 | rocha\n",
      "Processing Record #123 | kupang\n",
      "Processing Record #124 | yulara\n",
      "Processing Record #125 | longyearbyen\n",
      "Processing Record #126 | khatanga\n",
      "Processing Record #127 | sabha\n",
      "Processing Record #128 | emboscada\n",
      "Processing Record #129 | wabana\n",
      "Processing Record #130 | manokwari\n",
      "Processing Record #131 | lukovetskiy\n",
      "Processing Record #132 | milak\n",
      "Processing Record #133 | sambava\n",
      "Processing Record #134 | saint anthony\n",
      "Record #135 not found. Skipping...\n",
      "Processing Record #136 | ejea de los caballeros\n",
      "Processing Record #137 | tengzhou\n",
      "Processing Record #138 | alpena\n",
      "Processing Record #139 | kalmunai\n",
      "Processing Record #140 | xique-xique\n",
      "Processing Record #141 | mercedes\n",
      "Processing Record #142 | cayenne\n",
      "Processing Record #143 | port blair\n",
      "Processing Record #144 | shingu\n",
      "Processing Record #145 | thompson\n",
      "Processing Record #146 | lander\n",
      "Processing Record #147 | tilichiki\n",
      "Processing Record #148 | kavieng\n",
      "Processing Record #149 | campos\n",
      "Record #150 not found. Skipping...\n",
      "Processing Record #151 | flinders\n",
      "Processing Record #152 | mount gambier\n",
      "Processing Record #153 | husavik\n",
      "Processing Record #154 | lensk\n",
      "Processing Record #155 | wajir\n",
      "Processing Record #156 | nenjiang\n",
      "Processing Record #157 | broken hill\n",
      "Processing Record #158 | baoro\n",
      "Processing Record #159 | debre tabor\n",
      "Processing Record #160 | rawson\n",
      "Record #161 not found. Skipping...\n",
      "Processing Record #162 | te anau\n",
      "Processing Record #163 | hobart\n",
      "Processing Record #164 | petropavlovsk-kamchatskiy\n",
      "Processing Record #165 | huarmey\n",
      "Processing Record #166 | chuy\n",
      "Processing Record #167 | souillac\n",
      "Processing Record #168 | sabang\n",
      "Processing Record #169 | east london\n",
      "Record #170 not found. Skipping...\n",
      "Processing Record #171 | norman wells\n",
      "Processing Record #172 | tortoli\n",
      "Processing Record #173 | ixtapa\n",
      "Processing Record #174 | seoul\n",
      "Processing Record #175 | pitimbu\n",
      "Processing Record #176 | talaya\n",
      "Record #177 not found. Skipping...\n",
      "Processing Record #178 | sungaipenuh\n",
      "Processing Record #179 | sao filipe\n",
      "Processing Record #180 | cururupu\n",
      "Processing Record #181 | yauya\n",
      "Processing Record #182 | upernavik\n",
      "Processing Record #183 | touros\n",
      "Processing Record #184 | parrita\n",
      "Processing Record #185 | tuatapere\n",
      "Processing Record #186 | perth\n",
      "Processing Record #187 | lompoc\n",
      "Processing Record #188 | rodrigues alves\n",
      "Processing Record #189 | gizo\n",
      "Processing Record #190 | san miguel\n",
      "Processing Record #191 | port keats\n",
      "Processing Record #192 | sorong\n",
      "Processing Record #193 | pozo colorado\n",
      "Processing Record #194 | aguimes\n",
      "Processing Record #195 | kedougou\n",
      "Processing Record #196 | leh\n",
      "Record #197 not found. Skipping...\n",
      "Processing Record #198 | marawi\n",
      "Processing Record #199 | andenes\n",
      "Processing Record #200 | san pedro\n",
      "Processing Record #201 | dawson creek\n",
      "Processing Record #202 | krasnoselkup\n",
      "Processing Record #203 | benjamin hill\n",
      "Processing Record #204 | talara\n",
      "Processing Record #205 | haines junction\n",
      "Record #206 not found. Skipping...\n",
      "Processing Record #207 | tuktoyaktuk\n",
      "Processing Record #208 | mahebourg\n",
      "Processing Record #209 | sragen\n",
      "Processing Record #210 | paragominas\n",
      "Processing Record #211 | mehamn\n",
      "Processing Record #212 | ambanja\n",
      "Record #213 not found. Skipping...\n",
      "Processing Record #214 | namibe\n",
      "Processing Record #215 | carnarvon\n",
      "Processing Record #216 | tokur\n",
      "Processing Record #217 | vila velha\n",
      "Processing Record #218 | bethel\n",
      "Record #219 not found. Skipping...\n",
      "Processing Record #220 | whitehorse\n",
      "Processing Record #221 | georgiyevka\n",
      "Processing Record #222 | berdigestyakh\n",
      "Processing Record #223 | vao\n",
      "Processing Record #224 | krasnovishersk\n",
      "Processing Record #225 | rudnya\n",
      "Record #226 not found. Skipping...\n",
      "Processing Record #227 | tasiilaq\n",
      "Processing Record #228 | murom\n",
      "Processing Record #229 | torbay\n",
      "Processing Record #230 | santiago\n",
      "Processing Record #231 | sinnamary\n",
      "Processing Record #232 | ca mau\n",
      "Processing Record #233 | asau\n",
      "Processing Record #234 | bonfim\n",
      "Processing Record #235 | belmonte\n",
      "Processing Record #236 | fairfield\n",
      "Processing Record #237 | iqaluit\n",
      "Processing Record #238 | lurgan\n",
      "Processing Record #239 | campo alegre\n"
     ]
    },
    {
     "name": "stdout",
     "output_type": "stream",
     "text": [
      "Processing Record #240 | faanui\n",
      "Processing Record #241 | kutum\n",
      "Processing Record #242 | louisville\n",
      "Processing Record #243 | gejiu\n",
      "Processing Record #244 | qaqortoq\n",
      "Processing Record #245 | cabo san lucas\n",
      "Record #246 not found. Skipping...\n",
      "Processing Record #247 | pokhara\n",
      "Processing Record #248 | sept-iles\n",
      "Processing Record #249 | severo-kurilsk\n",
      "Processing Record #250 | valverde del camino\n",
      "Processing Record #251 | concepcion del oro\n",
      "Processing Record #252 | tarauaca\n",
      "Processing Record #253 | san policarpo\n",
      "Processing Record #254 | merrill\n",
      "Processing Record #255 | san quintin\n",
      "Processing Record #256 | taunggyi\n",
      "Processing Record #257 | ponta do sol\n",
      "Processing Record #258 | new norfolk\n",
      "Processing Record #259 | cockburn town\n",
      "Processing Record #260 | mizdah\n",
      "Processing Record #261 | ancud\n",
      "Processing Record #262 | katsuura\n",
      "Processing Record #263 | baykit\n",
      "Processing Record #264 | port lincoln\n",
      "Processing Record #265 | santiago del estero\n",
      "Processing Record #266 | hualmay\n",
      "Processing Record #267 | saint george\n",
      "Processing Record #268 | palana\n",
      "Processing Record #269 | ouallam\n",
      "Processing Record #270 | beringovskiy\n",
      "Processing Record #271 | itarema\n",
      "Processing Record #272 | capreol\n",
      "Processing Record #273 | airai\n",
      "Processing Record #274 | port shepstone\n",
      "Processing Record #275 | roald\n",
      "Processing Record #276 | strezhevoy\n",
      "Processing Record #277 | weymouth\n",
      "Processing Record #278 | chokurdakh\n",
      "Processing Record #279 | lorengau\n",
      "Processing Record #280 | maneadero\n",
      "Processing Record #281 | tiksi\n",
      "Processing Record #282 | nagornyy\n",
      "Processing Record #283 | mlawa\n",
      "Processing Record #284 | urucara\n",
      "Processing Record #285 | nova vicosa\n",
      "Record #286 not found. Skipping...\n",
      "Processing Record #287 | leo\n",
      "Processing Record #288 | ara\n",
      "Processing Record #289 | betare oya\n",
      "Processing Record #290 | tsaratanana\n",
      "Processing Record #291 | esna\n",
      "Processing Record #292 | constitucion\n",
      "Processing Record #293 | scarborough\n",
      "Processing Record #294 | necochea\n",
      "Processing Record #295 | limbang\n",
      "Processing Record #296 | bathsheba\n",
      "Processing Record #297 | strelitsa\n",
      "Processing Record #298 | acajutla\n",
      "Processing Record #299 | oistins\n",
      "Processing Record #300 | mlonggo\n",
      "Processing Record #301 | leningradskiy\n",
      "Record #302 not found. Skipping...\n",
      "Processing Record #303 | sevierville\n",
      "Processing Record #304 | san joaquin\n",
      "Processing Record #305 | coquimbo\n",
      "Record #306 not found. Skipping...\n",
      "Processing Record #307 | verkhnevilyuysk\n",
      "Processing Record #308 | baruun-urt\n",
      "Processing Record #309 | solnechnyy\n",
      "Processing Record #310 | port moresby\n",
      "Processing Record #311 | praya\n",
      "Processing Record #312 | ilulissat\n",
      "Processing Record #313 | porto walter\n",
      "Processing Record #314 | mollendo\n",
      "Processing Record #315 | dalmatovo\n",
      "Processing Record #316 | coihaique\n",
      "Processing Record #317 | lac du bonnet\n",
      "Processing Record #318 | tottori\n",
      "Record #319 not found. Skipping...\n",
      "Processing Record #320 | letlhakane\n",
      "Record #321 not found. Skipping...\n",
      "Processing Record #322 | verkh-usugli\n",
      "Processing Record #323 | margate\n",
      "Processing Record #324 | amudat\n",
      "Processing Record #325 | oranjemund\n",
      "Processing Record #326 | codrington\n",
      "Record #327 not found. Skipping...\n",
      "Processing Record #328 | bloemfontein\n",
      "Processing Record #329 | narsaq\n",
      "Processing Record #330 | araouane\n",
      "Processing Record #331 | richards bay\n",
      "Processing Record #332 | aykhal\n",
      "Processing Record #333 | comachuen\n",
      "Processing Record #334 | aberdeen\n",
      "Processing Record #335 | batemans bay\n",
      "Processing Record #336 | russell\n",
      "Processing Record #337 | lhokseumawe\n",
      "Processing Record #338 | purranque\n",
      "Processing Record #339 | verkhoyansk\n",
      "Processing Record #340 | nha trang\n",
      "Processing Record #341 | mudgee\n",
      "Processing Record #342 | shinshiro\n",
      "Processing Record #343 | praia\n",
      "Processing Record #344 | neiafu\n",
      "Record #345 not found. Skipping...\n",
      "Processing Record #346 | ler\n",
      "Processing Record #347 | sibolga\n",
      "Processing Record #348 | banda aceh\n",
      "Processing Record #349 | honningsvag\n",
      "Processing Record #350 | ahipara\n",
      "Processing Record #351 | kayerkan\n",
      "Processing Record #352 | lebu\n",
      "Processing Record #353 | rengasdengklok\n",
      "Processing Record #354 | jalu\n",
      "Processing Record #355 | tazovskiy\n",
      "Processing Record #356 | nabire\n",
      "Processing Record #357 | kiama\n",
      "Processing Record #358 | chara\n",
      "Record #359 not found. Skipping...\n",
      "Processing Record #360 | gweru\n",
      "Processing Record #361 | carauari\n",
      "Processing Record #362 | inuvik\n",
      "Processing Record #363 | akonolinga\n",
      "Processing Record #364 | grand gaube\n",
      "Processing Record #365 | papetoai\n",
      "Processing Record #366 | clyde river\n",
      "Processing Record #367 | lasa\n",
      "Processing Record #368 | mocuba\n",
      "Processing Record #369 | fuerte olimpo\n",
      "Processing Record #370 | hambantota\n",
      "Processing Record #371 | la ronge\n",
      "Processing Record #372 | saldanha\n",
      "Processing Record #373 | ulladulla\n",
      "Processing Record #374 | tautira\n",
      "Processing Record #375 | borgo san dalmazzo\n",
      "Processing Record #376 | polunochnoye\n",
      "Processing Record #377 | yebaishou\n",
      "Record #378 not found. Skipping...\n",
      "Processing Record #379 | mumford\n",
      "Record #380 not found. Skipping...\n",
      "Processing Record #381 | merzifon\n",
      "Processing Record #382 | saint-augustin\n",
      "Processing Record #383 | billings\n",
      "Processing Record #384 | alta floresta\n",
      "Processing Record #385 | samarai\n",
      "Processing Record #386 | anito\n",
      "Processing Record #387 | karratha\n",
      "Processing Record #388 | insar\n",
      "Processing Record #389 | swan hill\n",
      "Record #390 not found. Skipping...\n",
      "Processing Record #391 | vanderhoof\n",
      "Processing Record #392 | staroshcherbinovskaya\n",
      "Processing Record #393 | ishigaki\n",
      "Processing Record #394 | kalvarija\n",
      "Record #395 not found. Skipping...\n",
      "Processing Record #396 | wetaskiwin\n",
      "Processing Record #397 | caravelas\n",
      "Processing Record #398 | katherine\n",
      "Processing Record #399 | aurora\n",
      "Processing Record #400 | isangel\n",
      "Processing Record #401 | acari\n",
      "Processing Record #402 | paita\n",
      "Processing Record #403 | myingyan\n",
      "Processing Record #404 | doctor arroyo\n",
      "Processing Record #405 | tiznit\n",
      "Processing Record #406 | mula\n",
      "Processing Record #407 | karabulak\n",
      "Processing Record #408 | urubicha\n",
      "Processing Record #409 | dunedin\n",
      "Processing Record #410 | emerald\n",
      "Processing Record #411 | malpe\n",
      "Processing Record #412 | charters towers\n",
      "Processing Record #413 | the valley\n",
      "Processing Record #414 | zhigansk\n",
      "Processing Record #415 | sao joao da barra\n",
      "Processing Record #416 | saint-louis\n",
      "Processing Record #417 | alofi\n",
      "Processing Record #418 | nantucket\n",
      "Processing Record #419 | makakilo city\n",
      "Processing Record #420 | khon kaen\n",
      "Processing Record #421 | kahului\n",
      "Processing Record #422 | nacala\n",
      "Processing Record #423 | kloulklubed\n",
      "Processing Record #424 | eureka\n",
      "Processing Record #425 | alice town\n",
      "Processing Record #426 | pemangkat\n",
      "Processing Record #427 | comodoro rivadavia\n",
      "Processing Record #428 | victoria point\n",
      "Processing Record #429 | cap malheureux\n",
      "Processing Record #430 | vostok\n",
      "Processing Record #431 | naranjito\n",
      "Processing Record #432 | beckley\n",
      "Processing Record #433 | tunceli\n",
      "Processing Record #434 | kuusamo\n",
      "Processing Record #435 | xining\n",
      "Processing Record #436 | sokoto\n",
      "Processing Record #437 | broome\n",
      "Processing Record #438 | sciacca\n",
      "Processing Record #439 | kalianget\n",
      "Processing Record #440 | auki\n",
      "Record #441 not found. Skipping...\n",
      "Processing Record #442 | usinsk\n",
      "Processing Record #443 | keti bandar\n",
      "Processing Record #444 | axim\n",
      "Processing Record #445 | port hardy\n",
      "Processing Record #446 | klyuchi\n",
      "Processing Record #447 | goderich\n",
      "Processing Record #448 | tomatlan\n",
      "Processing Record #449 | kuminskiy\n",
      "Record #450 not found. Skipping...\n",
      "Processing Record #451 | nizwa\n",
      "Processing Record #452 | sorland\n",
      "Processing Record #453 | tessalit\n",
      "Processing Record #454 | puerto ayacucho\n",
      "Processing Record #455 | roebourne\n",
      "Processing Record #456 | puerto rico\n",
      "Processing Record #457 | kadoma\n",
      "Processing Record #458 | juneau\n",
      "Processing Record #459 | peachtree city\n",
      "Processing Record #460 | beauceville\n",
      "Processing Record #461 | zhangye\n",
      "Processing Record #462 | ola\n",
      "Processing Record #463 | tual\n",
      "Processing Record #464 | medea\n",
      "Record #465 not found. Skipping...\n",
      "Processing Record #466 | zhezkazgan\n",
      "Processing Record #467 | half moon bay\n",
      "Processing Record #468 | horta\n",
      "Processing Record #469 | issia\n",
      "Record #470 not found. Skipping...\n",
      "Record #471 not found. Skipping...\n",
      "Processing Record #472 | limbazi\n",
      "Processing Record #473 | ipameri\n",
      "Processing Record #474 | manta\n",
      "Processing Record #475 | kristiinankaupunki\n",
      "Processing Record #476 | sotnikovo\n"
     ]
    },
    {
     "name": "stdout",
     "output_type": "stream",
     "text": [
      "Processing Record #477 | chalons-en-champagne\n",
      "Processing Record #478 | rawah\n",
      "Processing Record #479 | santa maria\n",
      "Processing Record #480 | pochutla\n",
      "Processing Record #481 | abu samrah\n",
      "Processing Record #482 | tulsipur\n",
      "Processing Record #483 | sao jose da coroa grande\n",
      "Processing Record #484 | benguela\n",
      "Processing Record #485 | bria\n",
      "Processing Record #486 | mathbaria\n",
      "Processing Record #487 | santa rosa\n",
      "Processing Record #488 | corinto\n",
      "Processing Record #489 | amga\n",
      "Processing Record #490 | sur\n",
      "Processing Record #491 | russkaya polyana\n",
      "Processing Record #492 | bandarbeyla\n",
      "Processing Record #493 | karwar\n",
      "Record #494 not found. Skipping...\n",
      "Processing Record #495 | ust-tsilma\n",
      "Processing Record #496 | metro\n",
      "Processing Record #497 | adrar\n",
      "Processing Record #498 | yar-sale\n",
      "Processing Record #499 | antofagasta\n",
      "Processing Record #500 | port hawkesbury\n",
      "Processing Record #501 | ovalle\n",
      "Processing Record #502 | riyadh\n",
      "Processing Record #503 | sitka\n",
      "Processing Record #504 | pacific grove\n",
      "Processing Record #505 | diffa\n",
      "Processing Record #506 | indianola\n",
      "Processing Record #507 | monrovia\n",
      "Processing Record #508 | shakawe\n",
      "Processing Record #509 | alugan\n",
      "Processing Record #510 | arman\n",
      "Processing Record #511 | playa vicente\n",
      "Processing Record #512 | missoula\n",
      "Processing Record #513 | lata\n",
      "Processing Record #514 | akhmeta\n",
      "Processing Record #515 | sereflikochisar\n",
      "Record #516 not found. Skipping...\n",
      "Processing Record #517 | harper\n",
      "Processing Record #518 | dustlik\n",
      "Processing Record #519 | manali\n",
      "Processing Record #520 | andes\n",
      "Processing Record #521 | leninsk\n",
      "Processing Record #522 | coruripe\n",
      "Processing Record #523 | kumano\n",
      "Processing Record #524 | tezu\n",
      "Processing Record #525 | cuamba\n",
      "Processing Record #526 | lagoa\n",
      "Processing Record #527 | dnestrovsc\n",
      "Processing Record #528 | neuquen\n",
      "Record #529 not found. Skipping...\n",
      "Processing Record #530 | saryagash\n",
      "Processing Record #531 | waddan\n",
      "Processing Record #532 | laibin\n",
      "Processing Record #533 | de aar\n",
      "Processing Record #534 | ajdabiya\n",
      "Processing Record #535 | neftcala\n",
      "Processing Record #536 | najran\n",
      "Processing Record #537 | mackay\n",
      "Processing Record #538 | krutinka\n",
      "Record #539 not found. Skipping...\n",
      "Processing Record #540 | beyneu\n",
      "Processing Record #541 | hofn\n",
      "Processing Record #542 | valparaiso\n",
      "Processing Record #543 | west wendover\n",
      "Record #544 not found. Skipping...\n",
      "Processing Record #545 | waingapu\n",
      "Record #546 not found. Skipping...\n",
      "Processing Record #547 | olinda\n",
      "Processing Record #548 | sola\n",
      "Processing Record #549 | ilam\n",
      "Processing Record #550 | tutoia\n",
      "Processing Record #551 | gayny\n",
      "Processing Record #552 | xinmin\n",
      "Processing Record #553 | havre-saint-pierre\n",
      "Processing Record #554 | pontianak\n",
      "Processing Record #555 | poddorye\n",
      "Record #556 not found. Skipping...\n",
      "Processing Record #557 | camacha\n",
      "Processing Record #558 | verkhnyaya inta\n",
      "Processing Record #559 | fort myers beach\n",
      "Processing Record #560 | batavia\n",
      "Processing Record #561 | shangrao\n",
      "Processing Record #562 | surt\n",
      "Record #563 not found. Skipping...\n",
      "Processing Record #564 | imbituba\n",
      "Processing Record #565 | dingzhou\n",
      "Processing Record #566 | sao miguel do araguaia\n",
      "Processing Record #567 | vanimo\n",
      "Processing Record #568 | quelimane\n",
      "Processing Record #569 | robertsport\n",
      "Processing Record #570 | kichera\n",
      "Processing Record #571 | santa cruz\n",
      "Processing Record #572 | coahuayana\n",
      "Processing Record #573 | banepa\n",
      "Processing Record #574 | cornelius\n",
      "Processing Record #575 | orange cove\n",
      "Processing Record #576 | thunder bay\n",
      "Processing Record #577 | polovinnoye\n",
      "Processing Record #578 | trelew\n",
      "Processing Record #579 | wuwei\n",
      "Processing Record #580 | pacasmayo\n",
      "Processing Record #581 | iquique\n",
      "Processing Record #582 | magdagachi\n",
      "Processing Record #583 | dingle\n",
      "Processing Record #584 | champerico\n",
      "Processing Record #585 | keningau\n",
      "Processing Record #586 | guerrero negro\n",
      "Processing Record #587 | pisco\n",
      "Processing Record #588 | jardim\n",
      "Processing Record #589 | lenoir\n",
      "Processing Record #590 | baijiantan\n",
      "Processing Record #591 | san juan\n",
      "Processing Record #592 | rudnogorsk\n",
      "Processing Record #593 | nandyal\n",
      "Processing Record #594 | muhos\n",
      "Processing Record #595 | nuqui\n",
      "Processing Record #596 | kharan\n",
      "Processing Record #597 | vardo\n",
      "Processing Record #598 | mananara\n",
      "Processing Record #599 | pangoa\n",
      "Processing Record #600 | buraydah\n",
      "Processing Record #601 | ostrow wielkopolski\n",
      "Processing Record #602 | boca do acre\n",
      "Processing Record #603 | bonthe\n",
      "Record #604 not found. Skipping...\n",
      "Record #605 not found. Skipping...\n",
      "Processing Record #606 | abha\n",
      "Processing Record #607 | borogontsy\n",
      "Processing Record #608 | huancavelica\n",
      "Processing Record #609 | sault sainte marie\n",
      "Processing Record #610 | luena\n",
      "Processing Record #611 | qasigiannguit\n",
      "Processing Record #612 | plainview\n",
      "Processing Record #613 | odweyne\n",
      "Processing Record #614 | keetmanshoop\n",
      "-----------------------------\n",
      "Data Retrieval Complete      \n",
      "-----------------------------\n"
     ]
    }
   ],
   "source": [
    "# loop through cities list to build out json response and print log\n",
    "url = f\"http://api.openweathermap.org/data/2.5/weather?appid={weather_api_key}&units=imperial&q=\"\n",
    "\n",
    "print(\"Beginning Data Retrieval     \")\n",
    "print(\"-----------------------------\")\n",
    "\n",
    "for index, city in enumerate(cities):\n",
    "    try:\n",
    "        query = f\"{url}{city}\"\n",
    "        response = requests.get(query)\n",
    "        result = response.json()\n",
    "        \n",
    "    # append city & weather variable data to lists\n",
    "        country.append(result[\"sys\"][\"country\"])\n",
    "        lat.append(result[\"coord\"][\"lat\"])\n",
    "        lng.append(result[\"coord\"][\"lon\"])\n",
    "        max_temp.append(result[\"main\"][\"temp_max\"])\n",
    "        humid.append(result[\"main\"][\"humidity\"])\n",
    "        clouds.append(result[\"clouds\"][\"all\"])\n",
    "        wind_speed.append(result[\"wind\"][\"speed\"])\n",
    "        date.append(result[\"dt\"])\n",
    "        \n",
    "    # increase index\n",
    "        index += 1\n",
    "        print(f\"Processing Record #{index} | {city}\")\n",
    "        \n",
    "        found_cities.append(city)\n",
    "        \n",
    "    except:\n",
    "        index += 1\n",
    "        print(f\"Record #{index} not found. Skipping...\")\n",
    "\n",
    "print(\"-----------------------------\")\n",
    "print(\"Data Retrieval Complete      \")\n",
    "print(\"-----------------------------\")"
   ]
  },
  {
   "cell_type": "markdown",
   "metadata": {},
   "source": [
    "### Convert Raw Data to DataFrame\n",
    "* Export the city data into a .csv.\n",
    "* Display the DataFrame"
   ]
  },
  {
   "cell_type": "code",
   "execution_count": 5,
   "metadata": {},
   "outputs": [
    {
     "data": {
      "text/html": [
       "<div>\n",
       "<style scoped>\n",
       "    .dataframe tbody tr th:only-of-type {\n",
       "        vertical-align: middle;\n",
       "    }\n",
       "\n",
       "    .dataframe tbody tr th {\n",
       "        vertical-align: top;\n",
       "    }\n",
       "\n",
       "    .dataframe thead th {\n",
       "        text-align: right;\n",
       "    }\n",
       "</style>\n",
       "<table border=\"1\" class=\"dataframe\">\n",
       "  <thead>\n",
       "    <tr style=\"text-align: right;\">\n",
       "      <th></th>\n",
       "      <th>City</th>\n",
       "      <th>Country</th>\n",
       "      <th>Latitude</th>\n",
       "      <th>Longitude</th>\n",
       "      <th>Max Temp (F)</th>\n",
       "      <th>Humidity (%)</th>\n",
       "      <th>Cloudiness (%)</th>\n",
       "      <th>Wind Speed (mph)</th>\n",
       "      <th>Date</th>\n",
       "    </tr>\n",
       "  </thead>\n",
       "  <tbody>\n",
       "    <tr>\n",
       "      <th>0</th>\n",
       "      <td>rikitea</td>\n",
       "      <td>PF</td>\n",
       "      <td>-23.1203</td>\n",
       "      <td>-134.9692</td>\n",
       "      <td>79.32</td>\n",
       "      <td>71</td>\n",
       "      <td>17</td>\n",
       "      <td>11.88</td>\n",
       "      <td>1613528677</td>\n",
       "    </tr>\n",
       "    <tr>\n",
       "      <th>1</th>\n",
       "      <td>qaanaaq</td>\n",
       "      <td>GL</td>\n",
       "      <td>77.4840</td>\n",
       "      <td>-69.3632</td>\n",
       "      <td>-6.79</td>\n",
       "      <td>86</td>\n",
       "      <td>94</td>\n",
       "      <td>6.24</td>\n",
       "      <td>1613528677</td>\n",
       "    </tr>\n",
       "    <tr>\n",
       "      <th>2</th>\n",
       "      <td>anadyr</td>\n",
       "      <td>RU</td>\n",
       "      <td>64.7500</td>\n",
       "      <td>177.4833</td>\n",
       "      <td>-13.36</td>\n",
       "      <td>86</td>\n",
       "      <td>0</td>\n",
       "      <td>6.53</td>\n",
       "      <td>1613528677</td>\n",
       "    </tr>\n",
       "    <tr>\n",
       "      <th>3</th>\n",
       "      <td>yellowknife</td>\n",
       "      <td>CA</td>\n",
       "      <td>62.4560</td>\n",
       "      <td>-114.3525</td>\n",
       "      <td>-18.00</td>\n",
       "      <td>76</td>\n",
       "      <td>75</td>\n",
       "      <td>5.75</td>\n",
       "      <td>1613528678</td>\n",
       "    </tr>\n",
       "    <tr>\n",
       "      <th>4</th>\n",
       "      <td>hasaki</td>\n",
       "      <td>JP</td>\n",
       "      <td>35.7333</td>\n",
       "      <td>140.8333</td>\n",
       "      <td>54.00</td>\n",
       "      <td>37</td>\n",
       "      <td>40</td>\n",
       "      <td>18.41</td>\n",
       "      <td>1613528678</td>\n",
       "    </tr>\n",
       "    <tr>\n",
       "      <th>...</th>\n",
       "      <td>...</td>\n",
       "      <td>...</td>\n",
       "      <td>...</td>\n",
       "      <td>...</td>\n",
       "      <td>...</td>\n",
       "      <td>...</td>\n",
       "      <td>...</td>\n",
       "      <td>...</td>\n",
       "      <td>...</td>\n",
       "    </tr>\n",
       "    <tr>\n",
       "      <th>560</th>\n",
       "      <td>luena</td>\n",
       "      <td>AO</td>\n",
       "      <td>-11.7833</td>\n",
       "      <td>19.9167</td>\n",
       "      <td>64.15</td>\n",
       "      <td>78</td>\n",
       "      <td>100</td>\n",
       "      <td>3.06</td>\n",
       "      <td>1613528744</td>\n",
       "    </tr>\n",
       "    <tr>\n",
       "      <th>561</th>\n",
       "      <td>qasigiannguit</td>\n",
       "      <td>GL</td>\n",
       "      <td>68.8193</td>\n",
       "      <td>-51.1922</td>\n",
       "      <td>3.20</td>\n",
       "      <td>60</td>\n",
       "      <td>90</td>\n",
       "      <td>8.05</td>\n",
       "      <td>1613528744</td>\n",
       "    </tr>\n",
       "    <tr>\n",
       "      <th>562</th>\n",
       "      <td>plainview</td>\n",
       "      <td>US</td>\n",
       "      <td>40.7765</td>\n",
       "      <td>-73.4673</td>\n",
       "      <td>33.21</td>\n",
       "      <td>88</td>\n",
       "      <td>0</td>\n",
       "      <td>15.64</td>\n",
       "      <td>1613528744</td>\n",
       "    </tr>\n",
       "    <tr>\n",
       "      <th>563</th>\n",
       "      <td>odweyne</td>\n",
       "      <td>SO</td>\n",
       "      <td>9.4092</td>\n",
       "      <td>45.0640</td>\n",
       "      <td>58.82</td>\n",
       "      <td>76</td>\n",
       "      <td>57</td>\n",
       "      <td>5.01</td>\n",
       "      <td>1613528744</td>\n",
       "    </tr>\n",
       "    <tr>\n",
       "      <th>564</th>\n",
       "      <td>keetmanshoop</td>\n",
       "      <td>NA</td>\n",
       "      <td>-26.5833</td>\n",
       "      <td>18.1333</td>\n",
       "      <td>72.68</td>\n",
       "      <td>21</td>\n",
       "      <td>0</td>\n",
       "      <td>4.43</td>\n",
       "      <td>1613528744</td>\n",
       "    </tr>\n",
       "  </tbody>\n",
       "</table>\n",
       "<p>565 rows × 9 columns</p>\n",
       "</div>"
      ],
      "text/plain": [
       "              City Country  Latitude  Longitude  Max Temp (F)  Humidity (%)  \\\n",
       "0          rikitea      PF  -23.1203  -134.9692         79.32            71   \n",
       "1          qaanaaq      GL   77.4840   -69.3632         -6.79            86   \n",
       "2           anadyr      RU   64.7500   177.4833        -13.36            86   \n",
       "3      yellowknife      CA   62.4560  -114.3525        -18.00            76   \n",
       "4           hasaki      JP   35.7333   140.8333         54.00            37   \n",
       "..             ...     ...       ...        ...           ...           ...   \n",
       "560          luena      AO  -11.7833    19.9167         64.15            78   \n",
       "561  qasigiannguit      GL   68.8193   -51.1922          3.20            60   \n",
       "562      plainview      US   40.7765   -73.4673         33.21            88   \n",
       "563        odweyne      SO    9.4092    45.0640         58.82            76   \n",
       "564   keetmanshoop      NA  -26.5833    18.1333         72.68            21   \n",
       "\n",
       "     Cloudiness (%)  Wind Speed (mph)        Date  \n",
       "0                17             11.88  1613528677  \n",
       "1                94              6.24  1613528677  \n",
       "2                 0              6.53  1613528677  \n",
       "3                75              5.75  1613528678  \n",
       "4                40             18.41  1613528678  \n",
       "..              ...               ...         ...  \n",
       "560             100              3.06  1613528744  \n",
       "561              90              8.05  1613528744  \n",
       "562               0             15.64  1613528744  \n",
       "563              57              5.01  1613528744  \n",
       "564               0              4.43  1613528744  \n",
       "\n",
       "[565 rows x 9 columns]"
      ]
     },
     "execution_count": 5,
     "metadata": {},
     "output_type": "execute_result"
    }
   ],
   "source": [
    "# create dataframe\n",
    "weather_df = pd.DataFrame({\n",
    "    \"City\": found_cities,\n",
    "    \"Country\": country,\n",
    "    \"Latitude\": lat,\n",
    "    \"Longitude\": lng,\n",
    "    \"Max Temp (F)\": max_temp,\n",
    "    \"Humidity (%)\": humid,\n",
    "    \"Cloudiness (%)\": clouds,\n",
    "    \"Wind Speed (mph)\": wind_speed,\n",
    "    \"Date\": date\n",
    "})\n",
    "\n",
    "weather_df"
   ]
  },
  {
   "cell_type": "code",
   "execution_count": 6,
   "metadata": {},
   "outputs": [],
   "source": [
    "# export to csv\n",
    "csv_path = \"../output_data/weather.csv\"\n",
    "weather_csv = weather_df.to_csv(csv_path, index=False)"
   ]
  },
  {
   "cell_type": "code",
   "execution_count": 7,
   "metadata": {},
   "outputs": [
    {
     "data": {
      "text/plain": [
       "City                565\n",
       "Country             565\n",
       "Latitude            565\n",
       "Longitude           565\n",
       "Max Temp (F)        565\n",
       "Humidity (%)        565\n",
       "Cloudiness (%)      565\n",
       "Wind Speed (mph)    565\n",
       "Date                565\n",
       "dtype: int64"
      ]
     },
     "execution_count": 7,
     "metadata": {},
     "output_type": "execute_result"
    }
   ],
   "source": [
    "weather_df.count()"
   ]
  },
  {
   "cell_type": "code",
   "execution_count": 8,
   "metadata": {},
   "outputs": [
    {
     "data": {
      "text/html": [
       "<div>\n",
       "<style scoped>\n",
       "    .dataframe tbody tr th:only-of-type {\n",
       "        vertical-align: middle;\n",
       "    }\n",
       "\n",
       "    .dataframe tbody tr th {\n",
       "        vertical-align: top;\n",
       "    }\n",
       "\n",
       "    .dataframe thead th {\n",
       "        text-align: right;\n",
       "    }\n",
       "</style>\n",
       "<table border=\"1\" class=\"dataframe\">\n",
       "  <thead>\n",
       "    <tr style=\"text-align: right;\">\n",
       "      <th></th>\n",
       "      <th>Latitude</th>\n",
       "      <th>Longitude</th>\n",
       "      <th>Max Temp (F)</th>\n",
       "      <th>Humidity (%)</th>\n",
       "      <th>Cloudiness (%)</th>\n",
       "      <th>Wind Speed (mph)</th>\n",
       "      <th>Date</th>\n",
       "    </tr>\n",
       "  </thead>\n",
       "  <tbody>\n",
       "    <tr>\n",
       "      <th>count</th>\n",
       "      <td>565.000000</td>\n",
       "      <td>565.000000</td>\n",
       "      <td>565.000000</td>\n",
       "      <td>565.000000</td>\n",
       "      <td>565.000000</td>\n",
       "      <td>565.000000</td>\n",
       "      <td>5.650000e+02</td>\n",
       "    </tr>\n",
       "    <tr>\n",
       "      <th>mean</th>\n",
       "      <td>16.938126</td>\n",
       "      <td>17.754130</td>\n",
       "      <td>49.355204</td>\n",
       "      <td>73.736283</td>\n",
       "      <td>50.844248</td>\n",
       "      <td>7.924496</td>\n",
       "      <td>1.613529e+09</td>\n",
       "    </tr>\n",
       "    <tr>\n",
       "      <th>std</th>\n",
       "      <td>33.980131</td>\n",
       "      <td>91.242785</td>\n",
       "      <td>33.164879</td>\n",
       "      <td>18.806296</td>\n",
       "      <td>41.197378</td>\n",
       "      <td>5.552385</td>\n",
       "      <td>7.168202e+01</td>\n",
       "    </tr>\n",
       "    <tr>\n",
       "      <th>min</th>\n",
       "      <td>-54.800000</td>\n",
       "      <td>-175.200000</td>\n",
       "      <td>-33.230000</td>\n",
       "      <td>15.000000</td>\n",
       "      <td>0.000000</td>\n",
       "      <td>0.160000</td>\n",
       "      <td>1.613528e+09</td>\n",
       "    </tr>\n",
       "    <tr>\n",
       "      <th>25%</th>\n",
       "      <td>-13.200000</td>\n",
       "      <td>-66.382100</td>\n",
       "      <td>28.400000</td>\n",
       "      <td>64.000000</td>\n",
       "      <td>1.000000</td>\n",
       "      <td>3.530000</td>\n",
       "      <td>1.613529e+09</td>\n",
       "    </tr>\n",
       "    <tr>\n",
       "      <th>50%</th>\n",
       "      <td>18.216400</td>\n",
       "      <td>21.548200</td>\n",
       "      <td>62.040000</td>\n",
       "      <td>78.000000</td>\n",
       "      <td>55.000000</td>\n",
       "      <td>6.510000</td>\n",
       "      <td>1.613529e+09</td>\n",
       "    </tr>\n",
       "    <tr>\n",
       "      <th>75%</th>\n",
       "      <td>45.783300</td>\n",
       "      <td>102.263400</td>\n",
       "      <td>75.580000</td>\n",
       "      <td>87.000000</td>\n",
       "      <td>97.000000</td>\n",
       "      <td>11.160000</td>\n",
       "      <td>1.613529e+09</td>\n",
       "    </tr>\n",
       "    <tr>\n",
       "      <th>max</th>\n",
       "      <td>78.218600</td>\n",
       "      <td>179.316700</td>\n",
       "      <td>96.800000</td>\n",
       "      <td>100.000000</td>\n",
       "      <td>100.000000</td>\n",
       "      <td>28.770000</td>\n",
       "      <td>1.613529e+09</td>\n",
       "    </tr>\n",
       "  </tbody>\n",
       "</table>\n",
       "</div>"
      ],
      "text/plain": [
       "         Latitude   Longitude  Max Temp (F)  Humidity (%)  Cloudiness (%)  \\\n",
       "count  565.000000  565.000000    565.000000    565.000000      565.000000   \n",
       "mean    16.938126   17.754130     49.355204     73.736283       50.844248   \n",
       "std     33.980131   91.242785     33.164879     18.806296       41.197378   \n",
       "min    -54.800000 -175.200000    -33.230000     15.000000        0.000000   \n",
       "25%    -13.200000  -66.382100     28.400000     64.000000        1.000000   \n",
       "50%     18.216400   21.548200     62.040000     78.000000       55.000000   \n",
       "75%     45.783300  102.263400     75.580000     87.000000       97.000000   \n",
       "max     78.218600  179.316700     96.800000    100.000000      100.000000   \n",
       "\n",
       "       Wind Speed (mph)          Date  \n",
       "count        565.000000  5.650000e+02  \n",
       "mean           7.924496  1.613529e+09  \n",
       "std            5.552385  7.168202e+01  \n",
       "min            0.160000  1.613528e+09  \n",
       "25%            3.530000  1.613529e+09  \n",
       "50%            6.510000  1.613529e+09  \n",
       "75%           11.160000  1.613529e+09  \n",
       "max           28.770000  1.613529e+09  "
      ]
     },
     "execution_count": 8,
     "metadata": {},
     "output_type": "execute_result"
    }
   ],
   "source": [
    "weather_df.describe()"
   ]
  },
  {
   "cell_type": "markdown",
   "metadata": {},
   "source": [
    "## Inspect the data and remove the cities where the humidity > 100%.\n",
    "----\n",
    "Skip this step if there are no cities that have humidity > 100%. "
   ]
  },
  {
   "cell_type": "code",
   "execution_count": 9,
   "metadata": {},
   "outputs": [
    {
     "data": {
      "text/plain": [
       "Int64Index([], dtype='int64')"
      ]
     },
     "execution_count": 9,
     "metadata": {},
     "output_type": "execute_result"
    }
   ],
   "source": [
    "#  Get the indices of cities that have humidity over 100%.\n",
    "humid_df = weather_df.loc[weather_df[\"Humidity (%)\"] > 100].index\n",
    "humid_df"
   ]
  },
  {
   "cell_type": "code",
   "execution_count": 10,
   "metadata": {},
   "outputs": [],
   "source": [
    "# Make a new DataFrame equal to the city data to drop all humidity outliers by index.\n",
    "# Passing \"inplace=False\" will make a copy of the city_data DataFrame, which we call \"clean_city_data\".\n",
    "city_df = weather_df.drop(humid_df, inplace=False)\n",
    "\n",
    "city_path = \"../output_data/cities.csv\"\n",
    "cities_csv = city_df.to_csv(city_path, index=False)\n",
    "\n",
    "# wasn't actually necessary, humidity cannot exceed 100% - that is called rain."
   ]
  },
  {
   "cell_type": "markdown",
   "metadata": {},
   "source": [
    "## Plotting the Data\n",
    "* Use proper labeling of the plots using plot titles (including date of analysis) and axes labels.\n",
    "* Save the plotted figures as .pngs."
   ]
  },
  {
   "cell_type": "markdown",
   "metadata": {},
   "source": [
    "## Latitude vs. Temperature Plot"
   ]
  },
  {
   "cell_type": "code",
   "execution_count": 11,
   "metadata": {
    "scrolled": true
   },
   "outputs": [
    {
     "data": {
      "image/png": "[encoded data removed]",
      "text/plain": [
       "<Figure size 432x288 with 1 Axes>"
      ]
     },
     "metadata": {
      "needs_background": "light"
     },
     "output_type": "display_data"
    }
   ],
   "source": [
    "plt.scatter(city_df[\"Latitude\"], city_df[\"Max Temp (F)\"])\n",
    "plt.ylabel(\"Max Temperature (F)\", fontweight=\"bold\")\n",
    "plt.xlabel(\"Latitude\", fontweight=\"bold\")\n",
    "plt.title(\"City Latitude vs. Temperature (%s)\" % time.strftime(\"%x\"), fontweight=\"bold\")\n",
    "plt.grid(True)\n",
    "plt.savefig(\"../output_data/lat_vs_temp.png\")\n",
    "plt.show()\n",
    "\n",
    "# strftime documentation: https://www.programiz.com/python-programming/datetime/strftime"
   ]
  },
  {
   "cell_type": "markdown",
   "metadata": {},
   "source": [
    "## Latitude vs. Humidity Plot"
   ]
  },
  {
   "cell_type": "code",
   "execution_count": 12,
   "metadata": {},
   "outputs": [
    {
     "data": {
      "image/png": "[encoded data removed]",
      "text/plain": [
       "<Figure size 432x288 with 1 Axes>"
      ]
     },
     "metadata": {
      "needs_background": "light"
     },
     "output_type": "display_data"
    }
   ],
   "source": [
    "plt.scatter(city_df[\"Latitude\"], city_df[\"Humidity (%)\"])\n",
    "plt.ylabel(\"Humidity (%)\", fontweight=\"bold\")\n",
    "plt.xlabel(\"Latitude\", fontweight=\"bold\")\n",
    "plt.title(\"City Latitude vs. Humidity (%s)\" % time.strftime(\"%x\"), fontweight=\"bold\")\n",
    "plt.grid(True)\n",
    "plt.savefig(\"../output_data/lat_vs_humidity.png\")\n",
    "plt.show()\n"
   ]
  },
  {
   "cell_type": "markdown",
   "metadata": {},
   "source": [
    "## Latitude vs. Cloudiness Plot"
   ]
  },
  {
   "cell_type": "code",
   "execution_count": 13,
   "metadata": {},
   "outputs": [
    {
     "data": {
      "image/png": "[encoded data removed]",
      "text/plain": [
       "<Figure size 432x288 with 1 Axes>"
      ]
     },
     "metadata": {
      "needs_background": "light"
     },
     "output_type": "display_data"
    }
   ],
   "source": [
    "plt.scatter(city_df[\"Latitude\"], city_df[\"Cloudiness (%)\"])\n",
    "plt.ylabel(\"Cloudiness (%)\", fontweight=\"bold\")\n",
    "plt.xlabel(\"Latitude\", fontweight=\"bold\")\n",
    "plt.title(\"City Latitude vs. Cloudiness (%s)\" % time.strftime(\"%x\"), fontweight=\"bold\")\n",
    "plt.grid(True)\n",
    "plt.savefig(\"../output_data/lat_vs_clouds.png\")\n",
    "plt.show()\n"
   ]
  },
  {
   "cell_type": "markdown",
   "metadata": {},
   "source": [
    "## Latitude vs. Wind Speed Plot"
   ]
  },
  {
   "cell_type": "code",
   "execution_count": 14,
   "metadata": {},
   "outputs": [
    {
     "data": {
      "image/png": "[encoded data removed]",
      "text/plain": [
       "<Figure size 432x288 with 1 Axes>"
      ]
     },
     "metadata": {
      "needs_background": "light"
     },
     "output_type": "display_data"
    }
   ],
   "source": [
    "plt.scatter(city_df[\"Latitude\"], city_df[\"Wind Speed (mph)\"])\n",
    "plt.ylabel(\"Wind Speed (mph)\", fontweight=\"bold\")\n",
    "plt.xlabel(\"Latitude\", fontweight=\"bold\")\n",
    "plt.title(\"City Latitude vs. Wind Speed (%s)\" % time.strftime(\"%x\"), fontweight=\"bold\")\n",
    "plt.grid(True)\n",
    "plt.savefig(\"../output_data/lat_vs_wind.png\")\n",
    "plt.show()\n"
   ]
  },
  {
   "cell_type": "markdown",
   "metadata": {},
   "source": [
    "## Linear Regression"
   ]
  },
  {
   "cell_type": "code",
   "execution_count": 15,
   "metadata": {},
   "outputs": [],
   "source": [
    "# create northern & southern city dataframes\n",
    "\n",
    "north_df = city_df.loc[weather_df[\"Latitude\"] > 0]\n",
    "south_df = city_df.loc[weather_df[\"Latitude\"] < 0]"
   ]
  },
  {
   "cell_type": "markdown",
   "metadata": {},
   "source": [
    "####  Northern Hemisphere - Max Temp vs. Latitude Linear Regression"
   ]
  },
  {
   "cell_type": "code",
   "execution_count": 16,
   "metadata": {},
   "outputs": [
    {
     "name": "stdout",
     "output_type": "stream",
     "text": [
      "The correlation coefficient between the Northern Hemisphere Max Temp vs. Latitude is r = -0.89\n"
     ]
    },
    {
     "data": {
      "image/png": "[encoded data removed]",
      "text/plain": [
       "<Figure size 432x288 with 1 Axes>"
      ]
     },
     "metadata": {
      "needs_background": "light"
     },
     "output_type": "display_data"
    }
   ],
   "source": [
    "# linear reg calculations\n",
    "(slope, intercept, rvalue, pvalue, stderr) = linregress(north_df[\"Latitude\"], north_df[\"Max Temp (F)\"])\n",
    "slope = round(slope, 2)\n",
    "intercept = round(intercept, 2)\n",
    "rvalue = round(rvalue, 2)\n",
    "regress_values = (slope * north_df[\"Latitude\"]) + intercept\n",
    "line_eq = f\"y = {slope}x + {intercept}\"\n",
    "\n",
    "# print r value statement\n",
    "print(f\"The correlation coefficient between the Northern Hemisphere Max Temp vs. Latitude is r = {rvalue}\")\n",
    "\n",
    "# plot, label, and annotate\n",
    "# plt.figure(figsize = (10,8))\n",
    "plt.scatter(north_df[\"Latitude\"], north_df[\"Max Temp (F)\"])\n",
    "plt.xlabel(\"Latitude\")\n",
    "plt.ylabel(\"Max Temp (F)\")\n",
    "plt.title(\"Northern Hemisphere Max Temp vs. Latitude (%s)\" % time.strftime(\"%x\"))\n",
    "\n",
    "plt.plot(north_df[\"Latitude\"], regress_values, \"r-\")\n",
    "plt.annotate(line_eq, (10,-20), fontsize=14, color=\"red\")\n",
    "plt.savefig(\"../output_data/north_hem_vs_maxtemp.png\")\n",
    "plt.show()"
   ]
  },
  {
   "cell_type": "code",
   "execution_count": null,
   "metadata": {},
   "outputs": [],
   "source": []
  },
  {
   "cell_type": "markdown",
   "metadata": {},
   "source": [
    "####  Southern Hemisphere - Max Temp vs. Latitude Linear Regression"
   ]
  },
  {
   "cell_type": "code",
   "execution_count": 19,
   "metadata": {},
   "outputs": [
    {
     "name": "stdout",
     "output_type": "stream",
     "text": [
      "The correlation coefficient between the Southern Hemisphere Max Temp vs. Latitude is r = 0.46\n"
     ]
    },
    {
     "data": {
      "image/png": "[encoded data removed]",
      "text/plain": [
       "<Figure size 432x288 with 1 Axes>"
      ]
     },
     "metadata": {
      "needs_background": "light"
     },
     "output_type": "display_data"
    }
   ],
   "source": [
    "# linear regr calculations\n",
    "(slope, intercept, rvalue, pvalue, stderr) = linregress(south_df[\"Latitude\"], south_df[\"Max Temp (F)\"])\n",
    "slope = round(slope, 2)\n",
    "intercept = round(intercept, 2)\n",
    "rvalue = round(rvalue, 2)\n",
    "regress_values = (slope * south_df[\"Latitude\"]) + intercept\n",
    "line_eq = f\"y = {slope}x + {intercept}\"\n",
    "\n",
    "# print r value statement\n",
    "print(f\"The correlation coefficient between the Southern Hemisphere Max Temp vs. Latitude is r = {rvalue}\")\n",
    "\n",
    "# plot, label, and annotate\n",
    "plt.scatter(south_df[\"Latitude\"], south_df[\"Max Temp (F)\"])\n",
    "plt.xlabel(\"Latitude\")\n",
    "plt.ylabel(\"Max Temp (F)\")\n",
    "plt.title(\"Southern Hemisphere Max Temp vs. Latitude (%s)\" % time.strftime(\"%x\"))\n",
    "\n",
    "plt.plot(south_df[\"Latitude\"], regress_values, \"r-\")\n",
    "plt.annotate(line_eq, (-25,52), fontsize=14, color=\"red\")\n",
    "plt.savefig(\"../output_data/south_hem_vs_maxtemp.png\")\n",
    "plt.show()"
   ]
  },
  {
   "cell_type": "markdown",
   "metadata": {},
   "source": [
    "####  Northern Hemisphere - Humidity (%) vs. Latitude Linear Regression"
   ]
  },
  {
   "cell_type": "code",
   "execution_count": 20,
   "metadata": {},
   "outputs": [
    {
     "name": "stdout",
     "output_type": "stream",
     "text": [
      "The correlation coefficient between the Northern Hemisphere Humidity (%) vs. Latitude is r = 0.39\n"
     ]
    },
    {
     "data": {
      "image/png": "[encoded data removed]",
      "text/plain": [
       "<Figure size 432x288 with 1 Axes>"
      ]
     },
     "metadata": {
      "needs_background": "light"
     },
     "output_type": "display_data"
    }
   ],
   "source": [
    "# linear reg calculations\n",
    "(slope, intercept, rvalue, pvalue, stderr) = linregress(north_df[\"Latitude\"], north_df[\"Humidity (%)\"])\n",
    "slope = round(slope, 2)\n",
    "intercept = round(intercept, 2)\n",
    "rvalue = round(rvalue, 2)\n",
    "regress_values = (slope * north_df[\"Latitude\"]) + intercept\n",
    "line_eq = f\"y = {slope}x + {intercept}\"\n",
    "\n",
    "# print r value statement\n",
    "print(f\"The correlation coefficient between the Northern Hemisphere Humidity (%) vs. Latitude is r = {rvalue}\")\n",
    "\n",
    "# plot, label, and annotate\n",
    "# plt.figure(figsize = (10,8))\n",
    "plt.scatter(north_df[\"Latitude\"], north_df[\"Humidity (%)\"])\n",
    "plt.xlabel(\"Latitude\")\n",
    "plt.ylabel(\"Humidity (%)\")\n",
    "plt.title(\"Northern Hemisphere Humidity vs. Latitude (%s)\" % time.strftime(\"%x\"))\n",
    "\n",
    "plt.plot(north_df[\"Latitude\"], regress_values, \"r-\")\n",
    "plt.annotate(line_eq, (40,20), fontsize=14, color=\"red\")\n",
    "plt.savefig(\"../output_data/north_hem_vs_humidity.png\")\n",
    "plt.show()"
   ]
  },
  {
   "cell_type": "markdown",
   "metadata": {},
   "source": [
    "####  Southern Hemisphere - Humidity (%) vs. Latitude Linear Regression"
   ]
  },
  {
   "cell_type": "code",
   "execution_count": 21,
   "metadata": {},
   "outputs": [
    {
     "name": "stdout",
     "output_type": "stream",
     "text": [
      "The correlation coefficient between the Southern Hemisphere Humidity (%) vs. Latitude is r = 0.44\n"
     ]
    },
    {
     "data": {
      "image/png": "[encoded data removed]",
      "text/plain": [
       "<Figure size 432x288 with 1 Axes>"
      ]
     },
     "metadata": {
      "needs_background": "light"
     },
     "output_type": "display_data"
    }
   ],
   "source": [
    "# linear regr calculations\n",
    "(slope, intercept, rvalue, pvalue, stderr) = linregress(south_df[\"Latitude\"], south_df[\"Humidity (%)\"])\n",
    "slope = round(slope, 2)\n",
    "intercept = round(intercept, 2)\n",
    "rvalue = round(rvalue, 2)\n",
    "regress_values = (slope * south_df[\"Latitude\"]) + intercept\n",
    "line_eq = f\"y = {slope}x + {intercept}\"\n",
    "\n",
    "# print r value statement\n",
    "print(f\"The correlation coefficient between the Southern Hemisphere Humidity (%) vs. Latitude is r = {rvalue}\")\n",
    "\n",
    "# plot, label, and annotate\n",
    "plt.scatter(south_df[\"Latitude\"], south_df[\"Humidity (%)\"])\n",
    "plt.xlabel(\"Latitude\")\n",
    "plt.ylabel(\"Humidity (%)\")\n",
    "plt.title(\"Southern Hemisphere Humidity vs. Latitude (%s)\" % time.strftime(\"%x\"))\n",
    "\n",
    "plt.plot(south_df[\"Latitude\"], regress_values, \"r-\")\n",
    "plt.annotate(line_eq, (-22,30), fontsize=14, color=\"red\")\n",
    "plt.savefig(\"../output_data/south_hem_vs_humidity.png\")\n",
    "plt.show()"
   ]
  },
  {
   "cell_type": "markdown",
   "metadata": {},
   "source": [
    "####  Northern Hemisphere - Cloudiness (%) vs. Latitude Linear Regression"
   ]
  },
  {
   "cell_type": "code",
   "execution_count": 23,
   "metadata": {},
   "outputs": [
    {
     "name": "stdout",
     "output_type": "stream",
     "text": [
      "The correlation coefficient between the Northern Hemisphere Cloudiness (%) vs. Latitude is r = 0.14\n"
     ]
    },
    {
     "data": {
      "image/png": "[encoded data removed]",
      "text/plain": [
       "<Figure size 432x288 with 1 Axes>"
      ]
     },
     "metadata": {
      "needs_background": "light"
     },
     "output_type": "display_data"
    }
   ],
   "source": [
    "# linear reg calculations\n",
    "(slope, intercept, rvalue, pvalue, stderr) = linregress(north_df[\"Latitude\"], north_df[\"Cloudiness (%)\"])\n",
    "slope = round(slope, 2)\n",
    "intercept = round(intercept, 2)\n",
    "rvalue = round(rvalue, 2)\n",
    "regress_values = (slope * north_df[\"Latitude\"]) + intercept\n",
    "line_eq = f\"y = {slope}x + {intercept}\"\n",
    "\n",
    "# print r value statement\n",
    "print(f\"The correlation coefficient between the Northern Hemisphere Cloudiness (%) vs. Latitude is r = {rvalue}\")\n",
    "\n",
    "# plot, label, and annotate\n",
    "# plt.figure(figsize = (10,8))\n",
    "plt.scatter(north_df[\"Latitude\"], north_df[\"Cloudiness (%)\"])\n",
    "plt.xlabel(\"Latitude\")\n",
    "plt.ylabel(\"Cloudiness (%)\")\n",
    "plt.title(\"Northern Hemisphere Cloudiness vs. Latitude (%s)\" % time.strftime(\"%x\"))\n",
    "\n",
    "plt.plot(north_df[\"Latitude\"], regress_values, \"r-\")\n",
    "plt.annotate(line_eq, (43,31), fontsize=14, color=\"red\")\n",
    "plt.savefig(\"../output_data/north_hem_vs_clouds.png\")\n",
    "plt.show()"
   ]
  },
  {
   "cell_type": "markdown",
   "metadata": {},
   "source": [
    "####  Southern Hemisphere - Cloudiness (%) vs. Latitude Linear Regression"
   ]
  },
  {
   "cell_type": "code",
   "execution_count": 25,
   "metadata": {},
   "outputs": [
    {
     "name": "stdout",
     "output_type": "stream",
     "text": [
      "The correlation coefficient between the Southern Hemisphere Cloudiness (%) vs. Latitude is r = 0.51\n"
     ]
    },
    {
     "data": {
      "image/png": "[encoded data removed]",
      "text/plain": [
       "<Figure size 432x288 with 1 Axes>"
      ]
     },
     "metadata": {
      "needs_background": "light"
     },
     "output_type": "display_data"
    }
   ],
   "source": [
    "# linear regr calculations\n",
    "(slope, intercept, rvalue, pvalue, stderr) = linregress(south_df[\"Latitude\"], south_df[\"Cloudiness (%)\"])\n",
    "slope = round(slope, 2)\n",
    "intercept = round(intercept, 2)\n",
    "rvalue = round(rvalue, 2)\n",
    "regress_values = (slope * south_df[\"Latitude\"]) + intercept\n",
    "line_eq = f\"y = {slope}x + {intercept}\"\n",
    "\n",
    "# print r value statement\n",
    "print(f\"The correlation coefficient between the Southern Hemisphere Cloudiness (%) vs. Latitude is r = {rvalue}\")\n",
    "\n",
    "# plot, label, and annotate\n",
    "plt.scatter(south_df[\"Latitude\"], south_df[\"Cloudiness (%)\"])\n",
    "plt.xlabel(\"Latitude\")\n",
    "plt.ylabel(\"Cloudiness (%)\")\n",
    "plt.title(\"Southern Hemisphere Cloudiness vs. Latitude (%s)\" % time.strftime(\"%x\"))\n",
    "\n",
    "plt.plot(south_df[\"Latitude\"], regress_values, \"r-\")\n",
    "plt.annotate(line_eq, (-50,57), fontsize=14, color=\"red\")\n",
    "plt.savefig(\"../output_data/south_hem_vs_clouds.png\")\n",
    "plt.show()"
   ]
  },
  {
   "cell_type": "markdown",
   "metadata": {},
   "source": [
    "####  Northern Hemisphere - Wind Speed (mph) vs. Latitude Linear Regression"
   ]
  },
  {
   "cell_type": "code",
   "execution_count": 29,
   "metadata": {},
   "outputs": [
    {
     "name": "stdout",
     "output_type": "stream",
     "text": [
      "The correlation coefficient between the Northern Hemisphere Wind Speed (mph) vs. Latitude is r = -0.06\n"
     ]
    },
    {
     "data": {
      "image/png": "[encoded data removed]",
      "text/plain": [
       "<Figure size 432x288 with 1 Axes>"
      ]
     },
     "metadata": {
      "needs_background": "light"
     },
     "output_type": "display_data"
    }
   ],
   "source": [
    "# linear reg calculations\n",
    "(slope, intercept, rvalue, pvalue, stderr) = linregress(north_df[\"Latitude\"], north_df[\"Wind Speed (mph)\"])\n",
    "slope = round(slope, 2)\n",
    "intercept = round(intercept, 2)\n",
    "rvalue = round(rvalue, 2)\n",
    "regress_values = (slope * north_df[\"Latitude\"]) + intercept\n",
    "line_eq = f\"y = {slope}x + {intercept}\"\n",
    "\n",
    "# print r value statement\n",
    "print(f\"The correlation coefficient between the Northern Hemisphere Wind Speed (mph) vs. Latitude is r = {rvalue}\")\n",
    "\n",
    "# plot, label, and annotate\n",
    "# plt.figure(figsize = (10,8))\n",
    "plt.scatter(north_df[\"Latitude\"], north_df[\"Wind Speed (mph)\"])\n",
    "plt.xlabel(\"Latitude\")\n",
    "plt.ylabel(\"Wind Speed (mph)\")\n",
    "plt.title(\"Northern Hemisphere Wind Speed vs. Latitude (%s)\" % time.strftime(\"%x\"))\n",
    "\n",
    "plt.plot(north_df[\"Latitude\"], regress_values, \"r-\")\n",
    "plt.annotate(line_eq, (40,28), fontsize=14, color=\"red\")\n",
    "plt.savefig(\"../output_data/north_hem_vs_wind.png\")\n",
    "plt.show()"
   ]
  },
  {
   "cell_type": "markdown",
   "metadata": {},
   "source": [
    "####  Southern Hemisphere - Wind Speed (mph) vs. Latitude Linear Regression"
   ]
  },
  {
   "cell_type": "code",
   "execution_count": 32,
   "metadata": {},
   "outputs": [
    {
     "name": "stdout",
     "output_type": "stream",
     "text": [
      "The correlation coefficient between the Southern Hemisphere Wind Speed (mph) vs. Latitude is r = -0.12\n"
     ]
    },
    {
     "data": {
      "image/png": "[encoded data removed]",
      "text/plain": [
       "<Figure size 432x288 with 1 Axes>"
      ]
     },
     "metadata": {
      "needs_background": "light"
     },
     "output_type": "display_data"
    }
   ],
   "source": [
    "# linear regr calculations\n",
    "(slope, intercept, rvalue, pvalue, stderr) = linregress(south_df[\"Latitude\"], south_df[\"Wind Speed (mph)\"])\n",
    "slope = round(slope, 2)\n",
    "intercept = round(intercept, 2)\n",
    "rvalue = round(rvalue, 2)\n",
    "regress_values = (slope * south_df[\"Latitude\"]) + intercept\n",
    "line_eq = f\"y = {slope}x + {intercept}\"\n",
    "\n",
    "# print r value statement\n",
    "print(f\"The correlation coefficient between the Southern Hemisphere Wind Speed (mph) vs. Latitude is r = {rvalue}\")\n",
    "\n",
    "# plot, label, and annotate\n",
    "plt.scatter(south_df[\"Latitude\"], south_df[\"Wind Speed (mph)\"])\n",
    "plt.xlabel(\"Latitude\")\n",
    "plt.ylabel(\"Wind Speed (mph)\")\n",
    "plt.title(\"Southern Hemisphere Wind Speed vs. Latitude (%s)\" % time.strftime(\"%x\"))\n",
    "\n",
    "plt.plot(south_df[\"Latitude\"], regress_values, \"r-\")\n",
    "plt.annotate(line_eq, (-50,18), fontsize=14, color=\"red\")\n",
    "plt.savefig(\"../output_data/south_hem_vs_wind.png\")\n",
    "plt.show()"
   ]
  },
  {
   "cell_type": "code",
   "execution_count": null,
   "metadata": {},
   "outputs": [],
   "source": []
  }
 ],
 "metadata": {
  "anaconda-cloud": {},
  "kernel_info": {
   "name": "python3"
  },
  "kernelspec": {
   "display_name": "Python 3",
   "language": "python",
   "name": "python3"
  },
  "language_info": {
   "codemirror_mode": {
    "name": "ipython",
    "version": 3
   },
   "file_extension": ".py",
   "mimetype": "text/x-python",
   "name": "python",
   "nbconvert_exporter": "python",
   "pygments_lexer": "ipython3",
   "version": "3.8.3"
  },
  "latex_envs": {
   "LaTeX_envs_menu_present": true,
   "autoclose": false,
   "autocomplete": true,
   "bibliofile": "biblio.bib",
   "cite_by": "apalike",
   "current_citInitial": 1,
   "eqLabelWithNumbers": true,
   "eqNumInitial": 1,
   "hotkeys": {
    "equation": "Ctrl-E",
    "itemize": "Ctrl-I"
   },
   "labels_anchors": false,
   "latex_user_defs": false,
   "report_style_numbering": false,
   "user_envs_cfg": false
  },
  "nteract": {
   "version": "0.12.3"
  }
 },
 "nbformat": 4,
 "nbformat_minor": 2
}
